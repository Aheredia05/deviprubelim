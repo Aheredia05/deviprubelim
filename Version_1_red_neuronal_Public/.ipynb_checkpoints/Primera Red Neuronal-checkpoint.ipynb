{
 "cells": [
  {
   "cell_type": "code",
   "execution_count": 4,
   "metadata": {},
   "outputs": [],
   "source": [
    "import numpy as np\n",
    "import matplotlib.pyplot as plt\n",
    "import pandas as pd"
   ]
  },
  {
   "cell_type": "code",
   "execution_count": 5,
   "metadata": {},
   "outputs": [
    {
     "data": {
      "text/html": [
       "<div>\n",
       "<style scoped>\n",
       "    .dataframe tbody tr th:only-of-type {\n",
       "        vertical-align: middle;\n",
       "    }\n",
       "\n",
       "    .dataframe tbody tr th {\n",
       "        vertical-align: top;\n",
       "    }\n",
       "\n",
       "    .dataframe thead th {\n",
       "        text-align: right;\n",
       "    }\n",
       "</style>\n",
       "<table border=\"1\" class=\"dataframe\">\n",
       "  <thead>\n",
       "    <tr style=\"text-align: right;\">\n",
       "      <th></th>\n",
       "      <th>RowNumber</th>\n",
       "      <th>CustomerId</th>\n",
       "      <th>Surname</th>\n",
       "      <th>CreditScore</th>\n",
       "      <th>Geography</th>\n",
       "      <th>Gender</th>\n",
       "      <th>Age</th>\n",
       "      <th>Tenure</th>\n",
       "      <th>Balance</th>\n",
       "      <th>NumOfProducts</th>\n",
       "      <th>HasCrCard</th>\n",
       "      <th>IsActiveMember</th>\n",
       "      <th>EstimatedSalary</th>\n",
       "      <th>Exited</th>\n",
       "    </tr>\n",
       "  </thead>\n",
       "  <tbody>\n",
       "    <tr>\n",
       "      <th>0</th>\n",
       "      <td>1</td>\n",
       "      <td>15634602</td>\n",
       "      <td>Hargrave</td>\n",
       "      <td>619</td>\n",
       "      <td>France</td>\n",
       "      <td>Female</td>\n",
       "      <td>42</td>\n",
       "      <td>2</td>\n",
       "      <td>0.00</td>\n",
       "      <td>1</td>\n",
       "      <td>1</td>\n",
       "      <td>1</td>\n",
       "      <td>101348.88</td>\n",
       "      <td>1</td>\n",
       "    </tr>\n",
       "    <tr>\n",
       "      <th>1</th>\n",
       "      <td>2</td>\n",
       "      <td>15647311</td>\n",
       "      <td>Hill</td>\n",
       "      <td>608</td>\n",
       "      <td>Spain</td>\n",
       "      <td>Female</td>\n",
       "      <td>41</td>\n",
       "      <td>1</td>\n",
       "      <td>83807.86</td>\n",
       "      <td>1</td>\n",
       "      <td>0</td>\n",
       "      <td>1</td>\n",
       "      <td>112542.58</td>\n",
       "      <td>0</td>\n",
       "    </tr>\n",
       "    <tr>\n",
       "      <th>2</th>\n",
       "      <td>3</td>\n",
       "      <td>15619304</td>\n",
       "      <td>Onio</td>\n",
       "      <td>502</td>\n",
       "      <td>France</td>\n",
       "      <td>Female</td>\n",
       "      <td>42</td>\n",
       "      <td>8</td>\n",
       "      <td>159660.80</td>\n",
       "      <td>3</td>\n",
       "      <td>1</td>\n",
       "      <td>0</td>\n",
       "      <td>113931.57</td>\n",
       "      <td>1</td>\n",
       "    </tr>\n",
       "    <tr>\n",
       "      <th>3</th>\n",
       "      <td>4</td>\n",
       "      <td>15701354</td>\n",
       "      <td>Boni</td>\n",
       "      <td>699</td>\n",
       "      <td>France</td>\n",
       "      <td>Female</td>\n",
       "      <td>39</td>\n",
       "      <td>1</td>\n",
       "      <td>0.00</td>\n",
       "      <td>2</td>\n",
       "      <td>0</td>\n",
       "      <td>0</td>\n",
       "      <td>93826.63</td>\n",
       "      <td>0</td>\n",
       "    </tr>\n",
       "    <tr>\n",
       "      <th>4</th>\n",
       "      <td>5</td>\n",
       "      <td>15737888</td>\n",
       "      <td>Mitchell</td>\n",
       "      <td>850</td>\n",
       "      <td>Spain</td>\n",
       "      <td>Female</td>\n",
       "      <td>43</td>\n",
       "      <td>2</td>\n",
       "      <td>125510.82</td>\n",
       "      <td>1</td>\n",
       "      <td>1</td>\n",
       "      <td>1</td>\n",
       "      <td>79084.10</td>\n",
       "      <td>0</td>\n",
       "    </tr>\n",
       "  </tbody>\n",
       "</table>\n",
       "</div>"
      ],
      "text/plain": [
       "   RowNumber  CustomerId   Surname  CreditScore Geography  Gender  Age  \\\n",
       "0          1    15634602  Hargrave          619    France  Female   42   \n",
       "1          2    15647311      Hill          608     Spain  Female   41   \n",
       "2          3    15619304      Onio          502    France  Female   42   \n",
       "3          4    15701354      Boni          699    France  Female   39   \n",
       "4          5    15737888  Mitchell          850     Spain  Female   43   \n",
       "\n",
       "   Tenure    Balance  NumOfProducts  HasCrCard  IsActiveMember  \\\n",
       "0       2       0.00              1          1               1   \n",
       "1       1   83807.86              1          0               1   \n",
       "2       8  159660.80              3          1               0   \n",
       "3       1       0.00              2          0               0   \n",
       "4       2  125510.82              1          1               1   \n",
       "\n",
       "   EstimatedSalary  Exited  \n",
       "0        101348.88       1  \n",
       "1        112542.58       0  \n",
       "2        113931.57       1  \n",
       "3         93826.63       0  \n",
       "4         79084.10       0  "
      ]
     },
     "execution_count": 5,
     "metadata": {},
     "output_type": "execute_result"
    }
   ],
   "source": [
    "dataset = pd.read_csv('Churn_Modelling.csv')\n",
    "dataset.head()"
   ]
  },
  {
   "cell_type": "code",
   "execution_count": 6,
   "metadata": {},
   "outputs": [
    {
     "data": {
      "text/plain": [
       "array([[619, 'France', 'Female', ..., 1, 1, 101348.88],\n",
       "       [608, 'Spain', 'Female', ..., 0, 1, 112542.58],\n",
       "       [502, 'France', 'Female', ..., 1, 0, 113931.57],\n",
       "       ...,\n",
       "       [709, 'France', 'Female', ..., 0, 1, 42085.58],\n",
       "       [772, 'Germany', 'Male', ..., 1, 0, 92888.52],\n",
       "       [792, 'France', 'Female', ..., 1, 0, 38190.78]], dtype=object)"
      ]
     },
     "execution_count": 6,
     "metadata": {},
     "output_type": "execute_result"
    }
   ],
   "source": [
    "X = dataset.iloc[:, 3:13].values\n",
    "X"
   ]
  },
  {
   "cell_type": "code",
   "execution_count": 7,
   "metadata": {},
   "outputs": [
    {
     "data": {
      "text/plain": [
       "array([1, 0, 1, ..., 1, 1, 0], dtype=int64)"
      ]
     },
     "execution_count": 7,
     "metadata": {},
     "output_type": "execute_result"
    }
   ],
   "source": [
    "y = dataset.iloc[:, 13].values\n",
    "y"
   ]
  },
  {
   "cell_type": "code",
   "execution_count": 8,
   "metadata": {},
   "outputs": [],
   "source": [
    "from sklearn.preprocessing import LabelEncoder\n",
    "labelencoder_X1 = LabelEncoder()\n",
    "X[:,1] = labelencoder_X1.fit_transform(X[:,1])"
   ]
  },
  {
   "cell_type": "code",
   "execution_count": 9,
   "metadata": {},
   "outputs": [
    {
     "data": {
      "text/plain": [
       "array([[619, 0, 'Female', ..., 1, 1, 101348.88],\n",
       "       [608, 2, 'Female', ..., 0, 1, 112542.58],\n",
       "       [502, 0, 'Female', ..., 1, 0, 113931.57],\n",
       "       ...,\n",
       "       [709, 0, 'Female', ..., 0, 1, 42085.58],\n",
       "       [772, 1, 'Male', ..., 1, 0, 92888.52],\n",
       "       [792, 0, 'Female', ..., 1, 0, 38190.78]], dtype=object)"
      ]
     },
     "execution_count": 9,
     "metadata": {},
     "output_type": "execute_result"
    }
   ],
   "source": [
    "X"
   ]
  },
  {
   "cell_type": "code",
   "execution_count": 10,
   "metadata": {},
   "outputs": [],
   "source": [
    "labelencoder_X2 = LabelEncoder()\n",
    "X[:,2] = labelencoder_X2.fit_transform(X[:,2])"
   ]
  },
  {
   "cell_type": "code",
   "execution_count": 11,
   "metadata": {},
   "outputs": [
    {
     "data": {
      "text/plain": [
       "array([[619, 0, 0, ..., 1, 1, 101348.88],\n",
       "       [608, 2, 0, ..., 0, 1, 112542.58],\n",
       "       [502, 0, 0, ..., 1, 0, 113931.57],\n",
       "       ...,\n",
       "       [709, 0, 0, ..., 0, 1, 42085.58],\n",
       "       [772, 1, 1, ..., 1, 0, 92888.52],\n",
       "       [792, 0, 0, ..., 1, 0, 38190.78]], dtype=object)"
      ]
     },
     "execution_count": 11,
     "metadata": {},
     "output_type": "execute_result"
    }
   ],
   "source": [
    "X"
   ]
  },
  {
   "cell_type": "code",
   "execution_count": 12,
   "metadata": {},
   "outputs": [
    {
     "data": {
      "text/plain": [
       "array([[1.0, 0.0, 0.0, ..., 1, 1, 101348.88],\n",
       "       [0.0, 0.0, 1.0, ..., 0, 1, 112542.58],\n",
       "       [1.0, 0.0, 0.0, ..., 1, 0, 113931.57],\n",
       "       ...,\n",
       "       [1.0, 0.0, 0.0, ..., 0, 1, 42085.58],\n",
       "       [0.0, 1.0, 0.0, ..., 1, 0, 92888.52],\n",
       "       [1.0, 0.0, 0.0, ..., 1, 0, 38190.78]], dtype=object)"
      ]
     },
     "execution_count": 12,
     "metadata": {},
     "output_type": "execute_result"
    }
   ],
   "source": [
    "from sklearn.preprocessing import OneHotEncoder\n",
    "from sklearn.compose import ColumnTransformer\n",
    "\n",
    "transformer = ColumnTransformer(\n",
    "    transformers=[\n",
    "        (\"Churn_Modelling\",        # Un nombre de la transformación\n",
    "         OneHotEncoder(categories='auto'), # La clase a la que transformar\n",
    "         [1]            # Las columnas a transformar.\n",
    "         )\n",
    "    ], remainder='passthrough'\n",
    ")\n",
    "\n",
    "X = transformer.fit_transform(X)\n",
    "X"
   ]
  },
  {
   "cell_type": "code",
   "execution_count": 13,
   "metadata": {},
   "outputs": [],
   "source": [
    "X = X[:, 1:]"
   ]
  },
  {
   "cell_type": "code",
   "execution_count": 20,
   "metadata": {},
   "outputs": [
    {
     "data": {
      "text/plain": [
       "numpy.ndarray"
      ]
     },
     "execution_count": 20,
     "metadata": {},
     "output_type": "execute_result"
    }
   ],
   "source": [
    "type(X)"
   ]
  },
  {
   "cell_type": "code",
   "execution_count": 15,
   "metadata": {},
   "outputs": [],
   "source": [
    "from sklearn.model_selection import train_test_split\n",
    "X_train, X_test, Y_train, Y_test = train_test_split(X,y, test_size = 0.2, random_state = 0)\n",
    "\n",
    "from sklearn.preprocessing import StandardScaler\n",
    "sX = StandardScaler()\n",
    "X_train = sX.fit_transform(X_train)\n",
    "X_test = sX.transform(X_test)"
   ]
  },
  {
   "cell_type": "code",
   "execution_count": 21,
   "metadata": {},
   "outputs": [
    {
     "name": "stderr",
     "output_type": "stream",
     "text": [
      "Using TensorFlow backend.\n",
      "C:\\Users\\artur\\.conda\\envs\\tensorflow\\lib\\site-packages\\ipykernel_launcher.py:11: UserWarning: Update your `Dropout` call to the Keras 2 API: `Dropout(rate=0.1)`\n",
      "  # This is added back by InteractiveShellApp.init_path()\n",
      "C:\\Users\\artur\\.conda\\envs\\tensorflow\\lib\\site-packages\\ipykernel_launcher.py:15: UserWarning: Update your `Dropout` call to the Keras 2 API: `Dropout(rate=0.1)`\n",
      "  from ipykernel import kernelapp as app\n"
     ]
    },
    {
     "name": "stdout",
     "output_type": "stream",
     "text": [
      "Epoch 1/100\n",
      "8000/8000 [==============================] - 1s 183us/step - loss: 0.4939 - accuracy: 0.7950\n",
      "Epoch 2/100\n",
      "8000/8000 [==============================] - 1s 151us/step - loss: 0.4291 - accuracy: 0.8133\n",
      "Epoch 3/100\n",
      "8000/8000 [==============================] - 1s 156us/step - loss: 0.4253 - accuracy: 0.8191\n",
      "Epoch 4/100\n",
      "8000/8000 [==============================] - 1s 164us/step - loss: 0.4220 - accuracy: 0.8207\n",
      "Epoch 5/100\n",
      "8000/8000 [==============================] - 1s 183us/step - loss: 0.4170 - accuracy: 0.8214\n",
      "Epoch 6/100\n",
      "8000/8000 [==============================] - 1s 159us/step - loss: 0.4120 - accuracy: 0.8246\n",
      "Epoch 7/100\n",
      "8000/8000 [==============================] - 1s 160us/step - loss: 0.4070 - accuracy: 0.8231\n",
      "Epoch 8/100\n",
      "8000/8000 [==============================] - 1s 158us/step - loss: 0.4093 - accuracy: 0.8221\n",
      "Epoch 9/100\n",
      "8000/8000 [==============================] - 1s 157us/step - loss: 0.4061 - accuracy: 0.8201\n",
      "Epoch 10/100\n",
      "8000/8000 [==============================] - 1s 158us/step - loss: 0.3987 - accuracy: 0.8231\n",
      "Epoch 11/100\n",
      "8000/8000 [==============================] - 1s 159us/step - loss: 0.4030 - accuracy: 0.8232\n",
      "Epoch 12/100\n",
      "8000/8000 [==============================] - 1s 167us/step - loss: 0.4001 - accuracy: 0.8235\n",
      "Epoch 13/100\n",
      "8000/8000 [==============================] - 1s 157us/step - loss: 0.4014 - accuracy: 0.8274\n",
      "Epoch 14/100\n",
      "8000/8000 [==============================] - 1s 160us/step - loss: 0.3991 - accuracy: 0.8355\n",
      "Epoch 15/100\n",
      "8000/8000 [==============================] - 1s 155us/step - loss: 0.3947 - accuracy: 0.8325\n",
      "Epoch 16/100\n",
      "8000/8000 [==============================] - 1s 156us/step - loss: 0.3925 - accuracy: 0.8324\n",
      "Epoch 17/100\n",
      "8000/8000 [==============================] - 1s 161us/step - loss: 0.3934 - accuracy: 0.8322\n",
      "Epoch 18/100\n",
      "8000/8000 [==============================] - 1s 163us/step - loss: 0.3924 - accuracy: 0.8342\n",
      "Epoch 19/100\n",
      "8000/8000 [==============================] - 1s 154us/step - loss: 0.3938 - accuracy: 0.8335\n",
      "Epoch 20/100\n",
      "8000/8000 [==============================] - 1s 150us/step - loss: 0.3882 - accuracy: 0.8391\n",
      "Epoch 21/100\n",
      "8000/8000 [==============================] - 1s 153us/step - loss: 0.3927 - accuracy: 0.8345\n",
      "Epoch 22/100\n",
      "8000/8000 [==============================] - 1s 152us/step - loss: 0.3875 - accuracy: 0.8365\n",
      "Epoch 23/100\n",
      "8000/8000 [==============================] - 1s 149us/step - loss: 0.3940 - accuracy: 0.8340\n",
      "Epoch 24/100\n",
      "8000/8000 [==============================] - 1s 151us/step - loss: 0.3930 - accuracy: 0.8378\n",
      "Epoch 25/100\n",
      "8000/8000 [==============================] - 1s 161us/step - loss: 0.3869 - accuracy: 0.8356\n",
      "Epoch 26/100\n",
      "8000/8000 [==============================] - 1s 168us/step - loss: 0.3937 - accuracy: 0.8329\n",
      "Epoch 27/100\n",
      "8000/8000 [==============================] - 1s 165us/step - loss: 0.3918 - accuracy: 0.8364\n",
      "Epoch 28/100\n",
      "8000/8000 [==============================] - 1s 159us/step - loss: 0.3893 - accuracy: 0.8349\n",
      "Epoch 29/100\n",
      "8000/8000 [==============================] - 1s 156us/step - loss: 0.3895 - accuracy: 0.8342\n",
      "Epoch 30/100\n",
      "8000/8000 [==============================] - 1s 165us/step - loss: 0.3876 - accuracy: 0.8390\n",
      "Epoch 31/100\n",
      "8000/8000 [==============================] - 1s 160us/step - loss: 0.3890 - accuracy: 0.8370\n",
      "Epoch 32/100\n",
      "8000/8000 [==============================] - 1s 150us/step - loss: 0.3899 - accuracy: 0.8366\n",
      "Epoch 33/100\n",
      "8000/8000 [==============================] - 1s 159us/step - loss: 0.3888 - accuracy: 0.8372\n",
      "Epoch 34/100\n",
      "8000/8000 [==============================] - 1s 160us/step - loss: 0.3890 - accuracy: 0.8353\n",
      "Epoch 35/100\n",
      "8000/8000 [==============================] - 1s 166us/step - loss: 0.3920 - accuracy: 0.8361\n",
      "Epoch 36/100\n",
      "8000/8000 [==============================] - 1s 161us/step - loss: 0.3886 - accuracy: 0.8361\n",
      "Epoch 37/100\n",
      "8000/8000 [==============================] - 1s 156us/step - loss: 0.3903 - accuracy: 0.8354\n",
      "Epoch 38/100\n",
      "8000/8000 [==============================] - 1s 156us/step - loss: 0.3869 - accuracy: 0.8400\n",
      "Epoch 39/100\n",
      "8000/8000 [==============================] - 1s 152us/step - loss: 0.3912 - accuracy: 0.8346\n",
      "Epoch 40/100\n",
      "8000/8000 [==============================] - 1s 157us/step - loss: 0.3908 - accuracy: 0.8357\n",
      "Epoch 41/100\n",
      "8000/8000 [==============================] - 1s 164us/step - loss: 0.3855 - accuracy: 0.8372\n",
      "Epoch 42/100\n",
      "8000/8000 [==============================] - 1s 168us/step - loss: 0.3887 - accuracy: 0.8389\n",
      "Epoch 43/100\n",
      "8000/8000 [==============================] - 2s 190us/step - loss: 0.3869 - accuracy: 0.8401\n",
      "Epoch 44/100\n",
      "8000/8000 [==============================] - 1s 168us/step - loss: 0.3850 - accuracy: 0.8378\n",
      "Epoch 45/100\n",
      "8000/8000 [==============================] - 1s 161us/step - loss: 0.3891 - accuracy: 0.8379\n",
      "Epoch 46/100\n",
      "8000/8000 [==============================] - 1s 165us/step - loss: 0.3857 - accuracy: 0.8394\n",
      "Epoch 47/100\n",
      "8000/8000 [==============================] - 1s 149us/step - loss: 0.3868 - accuracy: 0.8355\n",
      "Epoch 48/100\n",
      "8000/8000 [==============================] - 1s 151us/step - loss: 0.3881 - accuracy: 0.8380\n",
      "Epoch 49/100\n",
      "8000/8000 [==============================] - 1s 151us/step - loss: 0.3827 - accuracy: 0.8370\n",
      "Epoch 50/100\n",
      "8000/8000 [==============================] - 1s 154us/step - loss: 0.3877 - accuracy: 0.8395\n",
      "Epoch 51/100\n",
      "8000/8000 [==============================] - 1s 154us/step - loss: 0.3913 - accuracy: 0.8360\n",
      "Epoch 52/100\n",
      "8000/8000 [==============================] - 1s 168us/step - loss: 0.3841 - accuracy: 0.8370\n",
      "Epoch 53/100\n",
      "8000/8000 [==============================] - 1s 160us/step - loss: 0.3862 - accuracy: 0.8371\n",
      "Epoch 54/100\n",
      "8000/8000 [==============================] - 1s 154us/step - loss: 0.3865 - accuracy: 0.8364\n",
      "Epoch 55/100\n",
      "8000/8000 [==============================] - 1s 186us/step - loss: 0.3903 - accuracy: 0.8382\n",
      "Epoch 56/100\n",
      "8000/8000 [==============================] - 1s 163us/step - loss: 0.3888 - accuracy: 0.8345\n",
      "Epoch 57/100\n",
      "8000/8000 [==============================] - 1s 157us/step - loss: 0.3855 - accuracy: 0.8374\n",
      "Epoch 58/100\n",
      "8000/8000 [==============================] - 1s 150us/step - loss: 0.3853 - accuracy: 0.8384\n",
      "Epoch 59/100\n",
      "8000/8000 [==============================] - 1s 151us/step - loss: 0.3898 - accuracy: 0.8344\n",
      "Epoch 60/100\n",
      "8000/8000 [==============================] - 1s 163us/step - loss: 0.3921 - accuracy: 0.8369\n",
      "Epoch 61/100\n",
      "8000/8000 [==============================] - 1s 163us/step - loss: 0.3840 - accuracy: 0.8430\n",
      "Epoch 62/100\n",
      "8000/8000 [==============================] - 1s 158us/step - loss: 0.3825 - accuracy: 0.8409\n",
      "Epoch 63/100\n",
      "8000/8000 [==============================] - 1s 150us/step - loss: 0.3850 - accuracy: 0.8414\n",
      "Epoch 64/100\n",
      "8000/8000 [==============================] - 1s 172us/step - loss: 0.3888 - accuracy: 0.8381\n",
      "Epoch 65/100\n",
      "8000/8000 [==============================] - 1s 175us/step - loss: 0.3869 - accuracy: 0.8375\n",
      "Epoch 66/100\n",
      "8000/8000 [==============================] - 1s 170us/step - loss: 0.3850 - accuracy: 0.8389\n",
      "Epoch 67/100\n",
      "8000/8000 [==============================] - 2s 218us/step - loss: 0.3860 - accuracy: 0.8372\n",
      "Epoch 68/100\n",
      "8000/8000 [==============================] - 1s 178us/step - loss: 0.3911 - accuracy: 0.8375\n",
      "Epoch 69/100\n",
      "8000/8000 [==============================] - 1s 156us/step - loss: 0.3853 - accuracy: 0.8370\n",
      "Epoch 70/100\n",
      "8000/8000 [==============================] - 1s 162us/step - loss: 0.3850 - accuracy: 0.8399\n",
      "Epoch 71/100\n",
      "8000/8000 [==============================] - 1s 169us/step - loss: 0.3860 - accuracy: 0.8397\n",
      "Epoch 72/100\n",
      "8000/8000 [==============================] - 1s 168us/step - loss: 0.3873 - accuracy: 0.8380\n",
      "Epoch 73/100\n",
      "8000/8000 [==============================] - 1s 166us/step - loss: 0.3823 - accuracy: 0.8428\n",
      "Epoch 74/100\n",
      "8000/8000 [==============================] - 1s 167us/step - loss: 0.3860 - accuracy: 0.8395\n",
      "Epoch 75/100\n",
      "8000/8000 [==============================] - 1s 156us/step - loss: 0.3854 - accuracy: 0.8355\n",
      "Epoch 76/100\n",
      "8000/8000 [==============================] - 1s 164us/step - loss: 0.3847 - accuracy: 0.8391\n",
      "Epoch 77/100\n",
      "8000/8000 [==============================] - 1s 171us/step - loss: 0.3873 - accuracy: 0.8353\n",
      "Epoch 78/100\n",
      "8000/8000 [==============================] - 1s 155us/step - loss: 0.3868 - accuracy: 0.8405\n",
      "Epoch 79/100\n",
      "8000/8000 [==============================] - 1s 168us/step - loss: 0.3855 - accuracy: 0.8371\n",
      "Epoch 80/100\n",
      "8000/8000 [==============================] - 1s 165us/step - loss: 0.3903 - accuracy: 0.8360\n",
      "Epoch 81/100\n",
      "8000/8000 [==============================] - 1s 164us/step - loss: 0.3862 - accuracy: 0.8365\n",
      "Epoch 82/100\n",
      "8000/8000 [==============================] - 1s 167us/step - loss: 0.3892 - accuracy: 0.8391\n",
      "Epoch 83/100\n",
      "8000/8000 [==============================] - 1s 167us/step - loss: 0.3877 - accuracy: 0.8389\n",
      "Epoch 84/100\n",
      "8000/8000 [==============================] - 1s 157us/step - loss: 0.3857 - accuracy: 0.8369\n",
      "Epoch 85/100\n",
      "8000/8000 [==============================] - 1s 166us/step - loss: 0.3870 - accuracy: 0.8405\n",
      "Epoch 86/100\n",
      "8000/8000 [==============================] - 1s 158us/step - loss: 0.3859 - accuracy: 0.8394\n",
      "Epoch 87/100\n",
      "8000/8000 [==============================] - 1s 162us/step - loss: 0.3918 - accuracy: 0.8388\n",
      "Epoch 88/100\n",
      "8000/8000 [==============================] - 1s 159us/step - loss: 0.3864 - accuracy: 0.8346\n",
      "Epoch 89/100\n",
      "8000/8000 [==============================] - 1s 166us/step - loss: 0.3921 - accuracy: 0.8360\n",
      "Epoch 90/100\n",
      "8000/8000 [==============================] - 1s 166us/step - loss: 0.3856 - accuracy: 0.8405\n",
      "Epoch 91/100\n",
      "8000/8000 [==============================] - 1s 176us/step - loss: 0.3835 - accuracy: 0.8406\n",
      "Epoch 92/100\n",
      "8000/8000 [==============================] - 1s 175us/step - loss: 0.3874 - accuracy: 0.8380\n",
      "Epoch 93/100\n",
      "8000/8000 [==============================] - 1s 161us/step - loss: 0.3865 - accuracy: 0.8378\n",
      "Epoch 94/100\n",
      "8000/8000 [==============================] - 1s 151us/step - loss: 0.3893 - accuracy: 0.8382\n",
      "Epoch 95/100\n",
      "8000/8000 [==============================] - 1s 149us/step - loss: 0.3861 - accuracy: 0.8379\n",
      "Epoch 96/100\n",
      "8000/8000 [==============================] - 1s 153us/step - loss: 0.3899 - accuracy: 0.8380\n",
      "Epoch 97/100\n",
      "8000/8000 [==============================] - 1s 152us/step - loss: 0.3833 - accuracy: 0.8395\n",
      "Epoch 98/100\n",
      "8000/8000 [==============================] - 1s 152us/step - loss: 0.3823 - accuracy: 0.8386\n",
      "Epoch 99/100\n",
      "8000/8000 [==============================] - 1s 153us/step - loss: 0.3845 - accuracy: 0.8385\n",
      "Epoch 100/100\n",
      "8000/8000 [==============================] - 1s 151us/step - loss: 0.3898 - accuracy: 0.8349\n"
     ]
    },
    {
     "data": {
      "text/plain": [
       "<keras.callbacks.callbacks.History at 0x1bf32632e08>"
      ]
     },
     "execution_count": 21,
     "metadata": {},
     "output_type": "execute_result"
    }
   ],
   "source": [
    "#construimos nuestra red neuronal\n",
    "import keras\n",
    "from keras.models import Sequential\n",
    "from keras.layers import Dense\n",
    "from keras.layers import Dropout\n",
    "\n",
    "clf = Sequential()\n",
    "\n",
    "#primera capa\n",
    "clf.add(Dense(units = 6,kernel_initializer = \"uniform\", activation = \"relu\", input_dim = 11))\n",
    "clf.add(Dropout(p=0.1))\n",
    "\n",
    "#segunda capa\n",
    "clf.add(Dense(units = 6,kernel_initializer = \"uniform\", activation = \"relu\"))\n",
    "clf.add(Dropout(p=0.1))\n",
    "\n",
    "#segunda capa\n",
    "clf.add(Dense(units = 1,kernel_initializer = \"uniform\", activation = \"sigmoid\"))\n",
    "\n",
    "#compilador de la RNA\n",
    "clf.compile(optimizer = \"adam\", loss = \"binary_crossentropy\", metrics = [\"accuracy\"])\n",
    "\n",
    "clf.fit(X_train, Y_train, batch_size = 10, epochs = 100)\n",
    "\n"
   ]
  },
  {
   "cell_type": "code",
   "execution_count": 22,
   "metadata": {},
   "outputs": [],
   "source": [
    "%matplotlib inline\n",
    "import itertools\n",
    "import matplotlib.pyplot as plt\n",
    "\n",
    "def plot_confusion_matrix(cm, classes,\n",
    "                          normalize=False,\n",
    "                          title='Confusion matrix',\n",
    "                          cmap=plt.cm.Blues):\n",
    "    \"\"\"\n",
    "    This function prints and plots the confusion matrix.\n",
    "    Normalization can be applied by setting `normalize=True`.\n",
    "    \"\"\"\n",
    "    plt.imshow(cm, interpolation='nearest', cmap=cmap)\n",
    "    plt.title(title)\n",
    "    plt.colorbar()\n",
    "    tick_marks = np.arange(len(classes))\n",
    "    plt.xticks(tick_marks, classes, rotation=45)\n",
    "    plt.yticks(tick_marks, classes)\n",
    "\n",
    "    if normalize:\n",
    "        cm = cm.astype('float') / cm.sum(axis=1)[:, np.newaxis]\n",
    "        print(\"Normalized confusion matrix\")\n",
    "    else:\n",
    "        print('Confusion matrix, without normalization')\n",
    "\n",
    "    print(cm)\n",
    "\n",
    "    thresh = cm.max() / 2.\n",
    "    for i, j in itertools.product(range(cm.shape[0]), range(cm.shape[1])):\n",
    "        plt.text(j, i, cm[i, j],\n",
    "                 horizontalalignment=\"center\",\n",
    "                 color=\"white\" if cm[i, j] > thresh else \"black\")\n",
    "\n",
    "    plt.tight_layout()\n",
    "    plt.ylabel('True label')\n",
    "    plt.xlabel('Predicted label')"
   ]
  },
  {
   "cell_type": "code",
   "execution_count": 23,
   "metadata": {},
   "outputs": [
    {
     "data": {
      "text/plain": [
       "array([[0.2783052 ],\n",
       "       [0.23257479],\n",
       "       [0.13026379],\n",
       "       ...,\n",
       "       [0.24824134],\n",
       "       [0.17281795],\n",
       "       [0.22080016]], dtype=float32)"
      ]
     },
     "execution_count": 23,
     "metadata": {},
     "output_type": "execute_result"
    }
   ],
   "source": [
    "#predecir\n",
    "y_pred = clf.predict(X_test)\n",
    "y_pred"
   ]
  },
  {
   "cell_type": "code",
   "execution_count": 24,
   "metadata": {},
   "outputs": [
    {
     "data": {
      "text/plain": [
       "array([[False],\n",
       "       [False],\n",
       "       [False],\n",
       "       ...,\n",
       "       [False],\n",
       "       [False],\n",
       "       [False]])"
      ]
     },
     "execution_count": 24,
     "metadata": {},
     "output_type": "execute_result"
    }
   ],
   "source": [
    "y_pred = (y_pred>0.5)\n",
    "y_pred"
   ]
  },
  {
   "cell_type": "code",
   "execution_count": 26,
   "metadata": {},
   "outputs": [
    {
     "name": "stdout",
     "output_type": "stream",
     "text": [
      "0.856\n"
     ]
    }
   ],
   "source": [
    "# Elaborar una matriz de confusión\n",
    "from sklearn.metrics import confusion_matrix\n",
    "cm = confusion_matrix(Y_test, y_pred)\n",
    "print((cm[0][0]+cm[1][1])/cm.sum())"
   ]
  },
  {
   "cell_type": "code",
   "execution_count": 27,
   "metadata": {},
   "outputs": [
    {
     "name": "stdout",
     "output_type": "stream",
     "text": [
      "Confusion matrix, without normalization\n",
      "[[1539   56]\n",
      " [ 232  173]]\n"
     ]
    },
    {
     "data": {
      "image/png": "[encoded data removed]",
      "text/plain": [
       "<Figure size 432x288 with 2 Axes>"
      ]
     },
     "metadata": {
      "needs_background": "light"
     },
     "output_type": "display_data"
    }
   ],
   "source": [
    "plot_confusion_matrix(cm, ['Si deja el banco','No deja el banco'],title='Matriz de confusión')"
   ]
  },
  {
   "cell_type": "code",
   "execution_count": null,
   "metadata": {},
   "outputs": [],
   "source": []
  }
 ],
 "metadata": {
  "kernelspec": {
   "display_name": "Python 3 (ipykernel)",
   "language": "python",
   "name": "python3"
  },
  "language_info": {
   "codemirror_mode": {
    "name": "ipython",
    "version": 3
   },
   "file_extension": ".py",
   "mimetype": "text/x-python",
   "name": "python",
   "nbconvert_exporter": "python",
   "pygments_lexer": "ipython3",
   "version": "3.9.13"
  }
 },
 "nbformat": 4,
 "nbformat_minor": 4
}
